{
 "cells": [
  {
   "cell_type": "raw",
   "id": "c1f2b983-d37c-43d5-843e-c8b83ca5be9a",
   "metadata": {},
   "source": [
    "Q1. How do you comment code in Python? What are the different types of comments?"
   ]
  },
  {
   "cell_type": "raw",
   "id": "91cc5f23-c29f-4466-86c1-edbadd083c72",
   "metadata": {},
   "source": [
    ">>Single-line comments: Anything written after '#' is considered as a comment and python does not consider the statement as a code."
   ]
  },
  {
   "cell_type": "code",
   "execution_count": 1,
   "id": "97f957ae-45c1-4e7a-b606-36ca3b9c7f0d",
   "metadata": {},
   "outputs": [],
   "source": [
    "# Apologies for late submission of the assignment. My CAT plus RRB PO Scale II preparation is also going on simultaneously."
   ]
  },
  {
   "cell_type": "raw",
   "id": "a86753f9-1305-4f91-a8be-21dc6cafcde2",
   "metadata": {},
   "source": [
    ">>Multi-line comments: Any multiple line statement written after quotations viz. ''' or \"\"\" is considered as a statement and python does not consider the statement as a code."
   ]
  },
  {
   "cell_type": "code",
   "execution_count": 8,
   "id": "489d2418-3cb2-4ed3-bd55-744882da4a48",
   "metadata": {},
   "outputs": [
    {
     "data": {
      "text/plain": [
       "'I have also tried writing. Went to Star Plus after winning an all India Writing Competetion. I attended the workshop with 67 other winners\\nbut in the end my writing was not at par with their expecations and since then I am struggling to sell my story.'"
      ]
     },
     "execution_count": 8,
     "metadata": {},
     "output_type": "execute_result"
    }
   ],
   "source": [
    "'''I have also tried writing. Went to Star Plus after winning an all India Writing Competetion. I attended the workshop with 67 other winners\n",
    "but in the end my writing was not at par with their expecations and since then I am struggling to sell my story.'''"
   ]
  },
  {
   "cell_type": "code",
   "execution_count": 12,
   "id": "ce9c886d-0c41-4972-bc1b-9a2978433898",
   "metadata": {},
   "outputs": [
    {
     "data": {
      "text/plain": [
       "'I have also tried writing. Went to Star Plus after winning an all India Writing Competetion. I attended the workshop with 67 other winners\\nbut in the end my writing was not at par with their expecations and since then I am struggling to sell my story.'"
      ]
     },
     "execution_count": 12,
     "metadata": {},
     "output_type": "execute_result"
    }
   ],
   "source": [
    "\"\"\"I have also tried writing. Went to Star Plus after winning an all India Writing Competetion. I attended the workshop with 67 other winners\n",
    "but in the end my writing was not at par with their expecations and since then I am struggling to sell my story.\"\"\""
   ]
  },
  {
   "cell_type": "raw",
   "id": "852ba72c-457b-4dfa-9ca8-769692b2465c",
   "metadata": {},
   "source": [
    "Q2. What are variables in Python? How do you declare and assign values to variables?"
   ]
  },
  {
   "cell_type": "raw",
   "id": "337d26de-8b4a-4af6-bcef-6e185a5f742b",
   "metadata": {},
   "source": [
    ">>>Variables are containers that store data of various types viz. string, float, integer, boolean, tuple, list, dictionary, complex, set.\n",
    ">>>Assigning values to variable: Choose a name for a variable and use the operator = to assign a value."
   ]
  },
  {
   "cell_type": "raw",
   "id": "bad1effb-85b8-4895-b854-49a1240620d8",
   "metadata": {},
   "source": [
    "Q3. How do you convert one data type to another in Python?"
   ]
  },
  {
   "cell_type": "raw",
   "id": "be21bef9-cac8-4b2f-96ba-481a87a08b53",
   "metadata": {},
   "source": [
    ">>> In the following codes the data type float is changed to integer using typecasting."
   ]
  },
  {
   "cell_type": "code",
   "execution_count": 13,
   "id": "ba3dbc92-b3a9-4970-97b3-1d17d6f11054",
   "metadata": {},
   "outputs": [],
   "source": [
    "PW = 455.568"
   ]
  },
  {
   "cell_type": "code",
   "execution_count": 15,
   "id": "1c705abf-b7e1-4cc4-8745-6c3095511332",
   "metadata": {},
   "outputs": [
    {
     "data": {
      "text/plain": [
       "float"
      ]
     },
     "execution_count": 15,
     "metadata": {},
     "output_type": "execute_result"
    }
   ],
   "source": [
    "type(PW)"
   ]
  },
  {
   "cell_type": "code",
   "execution_count": 16,
   "id": "08007da7-697e-4162-8fc2-23f1a7f843bc",
   "metadata": {},
   "outputs": [],
   "source": [
    "PW = int(PW)"
   ]
  },
  {
   "cell_type": "code",
   "execution_count": 17,
   "id": "3f73742a-b022-4c26-98d1-9e8404e82b4a",
   "metadata": {},
   "outputs": [
    {
     "data": {
      "text/plain": [
       "455"
      ]
     },
     "execution_count": 17,
     "metadata": {},
     "output_type": "execute_result"
    }
   ],
   "source": [
    "PW"
   ]
  },
  {
   "cell_type": "code",
   "execution_count": 18,
   "id": "99d1e30a-55ac-4a1f-b6ec-cadc89601b80",
   "metadata": {},
   "outputs": [
    {
     "data": {
      "text/plain": [
       "int"
      ]
     },
     "execution_count": 18,
     "metadata": {},
     "output_type": "execute_result"
    }
   ],
   "source": [
    "type(PW)"
   ]
  },
  {
   "cell_type": "raw",
   "id": "e11b4fde-4d54-4aa1-9085-fa276fdb020f",
   "metadata": {},
   "source": [
    "Q4. How do you write and execute a Python script from the command line?"
   ]
  },
  {
   "cell_type": "raw",
   "id": "f4bf7b4b-dc09-48aa-b966-17dcbc43c95a",
   "metadata": {},
   "source": [
    ">>>Write python code on a notepad. \n",
    ">>>Save the file with a .ipynb extension\n",
    ">>>Windows search: cmd\n",
    ">>>cd path - python pwskills.ipynb"
   ]
  },
  {
   "cell_type": "raw",
   "id": "276f64d0-8c39-474a-911c-b5fb6b2f149f",
   "metadata": {},
   "source": [
    "Q5. Given a list my_list = [1, 2, 3, 4, 5], write the code to slice the list and obtain the sub-list [2, 3]."
   ]
  },
  {
   "cell_type": "code",
   "execution_count": 1,
   "id": "86b60b5f-9522-42db-9556-4a285ef8b2f1",
   "metadata": {},
   "outputs": [],
   "source": [
    "my_list = [1, 2, 3, 4, 5]"
   ]
  },
  {
   "cell_type": "code",
   "execution_count": 3,
   "id": "d109d2a5-7d63-4567-979b-fd99a913cc52",
   "metadata": {},
   "outputs": [
    {
     "data": {
      "text/plain": [
       "[2, 3]"
      ]
     },
     "execution_count": 3,
     "metadata": {},
     "output_type": "execute_result"
    }
   ],
   "source": [
    "my_list[1:3]"
   ]
  },
  {
   "cell_type": "raw",
   "id": "5f75aaf9-aa39-47e6-9c1a-e8537b048a00",
   "metadata": {},
   "source": [
    "Q6. What is a complex number in mathematics, and how is it represented in Python?"
   ]
  },
  {
   "cell_type": "raw",
   "id": "397efb47-cdb0-48ec-ab22-c48a3c9da04c",
   "metadata": {},
   "source": [
    ">>> A complex number in mathematics is a number which consists of a real number and an imaginary number. In mathematics it is written as 5+6i. Here 5 is a real number and 6i is an imaginary number. In python a complex number is written as 5+6j. Here 5 is an integer and 6j is the imaginary number."
   ]
  },
  {
   "cell_type": "code",
   "execution_count": 4,
   "id": "cbdb59d2-47ef-4c3b-a537-0a75be12464c",
   "metadata": {},
   "outputs": [
    {
     "data": {
      "text/plain": [
       "complex"
      ]
     },
     "execution_count": 4,
     "metadata": {},
     "output_type": "execute_result"
    }
   ],
   "source": [
    "type(5+6j)"
   ]
  },
  {
   "cell_type": "raw",
   "id": "4bb80cb5-2499-4720-8a9c-4223f51edc16",
   "metadata": {},
   "source": [
    "Q7. What is the correct way to declare a variable named age and assign the value 25 to it?"
   ]
  },
  {
   "cell_type": "code",
   "execution_count": 6,
   "id": "0b680ba3-51f4-4061-9b90-7d5eb4ff51bf",
   "metadata": {},
   "outputs": [],
   "source": [
    "age=25"
   ]
  },
  {
   "cell_type": "code",
   "execution_count": 7,
   "id": "3ee73e4e-b1b8-4700-a9ad-5454ee9f6491",
   "metadata": {},
   "outputs": [
    {
     "data": {
      "text/plain": [
       "25"
      ]
     },
     "execution_count": 7,
     "metadata": {},
     "output_type": "execute_result"
    }
   ],
   "source": [
    "age"
   ]
  },
  {
   "cell_type": "raw",
   "id": "178cd684-2b8d-4dd6-a1f7-7512cddb1cad",
   "metadata": {},
   "source": [
    "Q8. Declare a variable named price and assign the value 9.99 to it. What data type does this variable belong to?"
   ]
  },
  {
   "cell_type": "code",
   "execution_count": 8,
   "id": "27430822-ae30-42a4-ad10-8e8bbbe2b29c",
   "metadata": {},
   "outputs": [],
   "source": [
    "price=9.99"
   ]
  },
  {
   "cell_type": "code",
   "execution_count": 9,
   "id": "82615f20-fc61-4cbe-8258-20f42bb41cfc",
   "metadata": {},
   "outputs": [
    {
     "data": {
      "text/plain": [
       "float"
      ]
     },
     "execution_count": 9,
     "metadata": {},
     "output_type": "execute_result"
    }
   ],
   "source": [
    "type(price)"
   ]
  },
  {
   "cell_type": "raw",
   "id": "b3593a3b-d699-4835-86ef-0e8aeecec47b",
   "metadata": {},
   "source": [
    "Q9. Create a variable named name and assign your full name to it as a string. How would you print the value of this variable?"
   ]
  },
  {
   "cell_type": "code",
   "execution_count": 10,
   "id": "9810cebd-a56c-4724-9f8e-91225ccfc707",
   "metadata": {},
   "outputs": [],
   "source": [
    "name='Amiya Krishna Singha'"
   ]
  },
  {
   "cell_type": "code",
   "execution_count": 11,
   "id": "5e0c14de-c535-497a-af4c-b90397375aba",
   "metadata": {},
   "outputs": [
    {
     "name": "stdout",
     "output_type": "stream",
     "text": [
      "Amiya Krishna Singha\n"
     ]
    }
   ],
   "source": [
    "print(name)"
   ]
  },
  {
   "cell_type": "raw",
   "id": "0a9f1090-b464-4553-a05c-766fda6002f0",
   "metadata": {},
   "source": [
    "Q10. Given the string \"Hello, World!\", extract the substring \"World\"."
   ]
  },
  {
   "cell_type": "code",
   "execution_count": 12,
   "id": "b3911a00-ecad-43a3-9a5e-95e5b96ba4c1",
   "metadata": {},
   "outputs": [],
   "source": [
    "Str = \"Hello, World!\""
   ]
  },
  {
   "cell_type": "code",
   "execution_count": 14,
   "id": "ebd60ead-ba82-45a6-9252-520d264d48f1",
   "metadata": {},
   "outputs": [
    {
     "data": {
      "text/plain": [
       "'World'"
      ]
     },
     "execution_count": 14,
     "metadata": {},
     "output_type": "execute_result"
    }
   ],
   "source": [
    "Str[7:12]"
   ]
  },
  {
   "cell_type": "raw",
   "id": "0dd006bf-a69e-448f-a99a-2aa562559968",
   "metadata": {},
   "source": [
    "Q11. Create a variable named \"is_student\" and assign it a boolean value indicating whether you are currently a student or not."
   ]
  },
  {
   "cell_type": "code",
   "execution_count": 18,
   "id": "5c128685-141a-4379-9f3c-1930d10867f3",
   "metadata": {},
   "outputs": [],
   "source": [
    "is_student = True"
   ]
  },
  {
   "cell_type": "code",
   "execution_count": 19,
   "id": "87cdcd4e-298c-4a18-a397-f7f563e7c0b9",
   "metadata": {},
   "outputs": [
    {
     "data": {
      "text/plain": [
       "True"
      ]
     },
     "execution_count": 19,
     "metadata": {},
     "output_type": "execute_result"
    }
   ],
   "source": [
    "is_student"
   ]
  },
  {
   "cell_type": "code",
   "execution_count": null,
   "id": "3abd4a3e-aeeb-462a-aa0c-146fdbb39934",
   "metadata": {},
   "outputs": [],
   "source": []
  }
 ],
 "metadata": {
  "kernelspec": {
   "display_name": "Python 3 (ipykernel)",
   "language": "python",
   "name": "python3"
  },
  "language_info": {
   "codemirror_mode": {
    "name": "ipython",
    "version": 3
   },
   "file_extension": ".py",
   "mimetype": "text/x-python",
   "name": "python",
   "nbconvert_exporter": "python",
   "pygments_lexer": "ipython3",
   "version": "3.10.8"
  }
 },
 "nbformat": 4,
 "nbformat_minor": 5
}
